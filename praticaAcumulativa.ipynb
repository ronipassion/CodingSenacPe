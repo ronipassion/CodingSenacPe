{
 "cells": [
  {
   "cell_type": "code",
   "execution_count": 6,
   "metadata": {},
   "outputs": [
    {
     "name": "stdout",
     "output_type": "stream",
     "text": [
      "Você digitou a vogal:  u\n"
     ]
    }
   ],
   "source": [
    "# questão 1\n",
    "resposta = input('Digite uma letra para o programa reconhecer se é vogal ou consuante: ')\n",
    "\n",
    "if (resposta == 'a' or resposta == 'e' or resposta == 'i' or resposta == 'o' or resposta == 'u'):\n",
    "    print('Você digitou a vogal: ', resposta)\n",
    "else:\n",
    "    print('Você digitou a consoante: ', resposta)\n"
   ]
  },
  {
   "cell_type": "code",
   "execution_count": 9,
   "metadata": {},
   "outputs": [
    {
     "name": "stdout",
     "output_type": "stream",
     "text": [
      "Compre o produto 3 porque ele é mais barato, custando: R$ 10\n"
     ]
    }
   ],
   "source": [
    "# questão 2 \n",
    "produto1 = int(input('Qual valor do primeiro produto?'))\n",
    "produto2 = int(input('Qual valor do segundo produto?'))\n",
    "produto3 = int(input('Qual valor do terceiro produto?'))\n",
    "\n",
    "if (produto1 < produto2 and produto1 < produto3):\n",
    "    print('Compre o produto 1 porque ele é mais barato, custando: R$', produto1)\n",
    "elif (produto2 < produto3):\n",
    "    print('Compre o produto 2 porque ele é mais barato, custando: R$', produto2)\n",
    "else: \n",
    "    print('Compre o produto 3 porque ele é mais barato, custando: R$', produto3)"
   ]
  },
  {
   "cell_type": "code",
   "execution_count": 10,
   "metadata": {},
   "outputs": [
    {
     "name": "stdout",
     "output_type": "stream",
     "text": [
      "A ordem decrescente é: 10 7 4\n"
     ]
    }
   ],
   "source": [
    "# questão 3\n",
    "numero1 = int(input('Digite o primeiro número'))\n",
    "numero2 = int(input('Digite o segundo número'))\n",
    "numero3 = int(input('Digite o terceiro número'))\n",
    "\n",
    "if (numero1 < numero2 and numero1 < numero3):\n",
    "    if (numero2 < numero3):\n",
    "        print('A ordem decrescente é: ', numero3, numero2, numero1)\n",
    "    else:\n",
    "        print('A ordem decrescente é:', numero2, numero3, numero1)\n",
    "elif (numero2 < numero1 and numero2 < numero3):\n",
    "    if (numero3 < numero1):\n",
    "        print('A ordem decrescente é:', numero1, numero3, numero2)\n",
    "    else:\n",
    "        print('A ordem decrescente é:', numero3, numero1, numero2)\n",
    "else:\n",
    "    if (numero1 < numero2):\n",
    "        print('A ordem decrescente é:', numero2, numero1, numero3)\n",
    "    else: \n",
    "        print('A ordem decrescente é:', numero1, numero2, numero3)\n",
    "\n"
   ]
  },
  {
   "cell_type": "code",
   "execution_count": 30,
   "metadata": {},
   "outputs": [
    {
     "name": "stdout",
     "output_type": "stream",
     "text": [
      "Boa noite!\n"
     ]
    }
   ],
   "source": [
    "# questão 4\n",
    "turno = input('Em qual turno você estuda? Escolha entre as opções: M(Matutino), V(Vespertino) e N(Noturno)')\n",
    "\n",
    "if (turno == 'M' or turno == 'm'):\n",
    "    print('Bom dia!')\n",
    "elif (turno == 'V' or turno == 'v'):\n",
    "    print('Boa tarde!')\n",
    "elif (turno == 'N' or turno == 'n'):\n",
    "    print('Boa noite!')\n",
    "else: \n",
    "    print('Opção inválida!')"
   ]
  },
  {
   "cell_type": "code",
   "execution_count": 42,
   "metadata": {},
   "outputs": [
    {
     "name": "stdout",
     "output_type": "stream",
     "text": [
      "O dia é:  Domingo\n"
     ]
    }
   ],
   "source": [
    "# questão 5.1\n",
    "\n",
    "escolha = int(input('Digite um número de 1 a 7 e o programa dirá qual o dia da semana baseado na sua resposta.'))\n",
    "\n",
    "diasSemana = ['Domingo', 'Segunda', 'Terça', 'Quarta', 'Quinta', 'Sexta', 'Sábado']\n",
    "\n",
    "if (escolha == 1):\n",
    "    print('O dia é: ', diasSemana[0])\n",
    "elif (escolha == 2):\n",
    "    print('O dia é: ', diasSemana[1])\n",
    "elif (escolha == 3):\n",
    "    print('O dia é: ', diasSemana[2])\n",
    "elif (escolha == 4):\n",
    "    print('O dia é: ', diasSemana[3])\n",
    "elif (escolha == 5):\n",
    "    print('O dia é: ', diasSemana[4])\n",
    "elif (escolha == 6):\n",
    "    print('O dia é: ', diasSemana[5])\n",
    "elif (escolha == 7):\n",
    "    print('O dia é: ', diasSemana[6])\n",
    "else: \n",
    "    print('Opção inválida')"
   ]
  },
  {
   "cell_type": "code",
   "execution_count": 46,
   "metadata": {},
   "outputs": [
    {
     "name": "stdout",
     "output_type": "stream",
     "text": [
      "Com notas 3.0 e 1.0 o aluno obteve média de: 2.0 . Com isso, o seu conceito foi: E e ele está REPROVADO\n"
     ]
    }
   ],
   "source": [
    "# questão 5.2 \n",
    "nota1 = float(input('Digite a primeira nota do aluno:'))\n",
    "nota2 = float(input('Digite a segunda nota do aluno:'))\n",
    "media = (nota1 + nota2) / 2\n",
    "conceito = ''\n",
    "resultado = ''\n",
    "\n",
    "if (media >= 9 and media <= 10):\n",
    "    conceito = 'A'\n",
    "    resultado = 'APROVADO'\n",
    "    print('Com notas', nota1,'e', nota2, 'o aluno obteve média de:', media, '. Com isso, o seu conceito foi:', conceito, 'e ele está', resultado) \n",
    "elif (media >= 7.5 and media < 9):\n",
    "    conceito = 'B'\n",
    "    resultado = 'APROVADO'\n",
    "    print('Com notas', nota1,'e', nota2, 'o aluno obteve média de:', media, '. Com isso, o seu conceito foi:', conceito, 'e ele está', resultado) \n",
    "elif (media >= 6 and media < 7.5):\n",
    "    conceito = 'C'\n",
    "    resultado = 'APROVADO'\n",
    "    print('Com notas', nota1, 'e', nota2, 'o aluno obteve média de:', media, '. Com isso, o seu conceito foi:', conceito, 'e ele está', resultado) \n",
    "elif (media >= 4 and media < 6):\n",
    "    conceito = 'D'\n",
    "    resultado = 'REPROVADO'\n",
    "    print('Com notas', nota1,'e', nota2, 'o aluno obteve média de:', media, '. Com isso, o seu conceito foi:', conceito, 'e ele está', resultado) \n",
    "else: \n",
    "    conceito = 'E'\n",
    "    resultado = 'REPROVADO'\n",
    "    print('Com notas', nota1,'e', nota2, 'o aluno obteve média de:', media, '. Com isso, o seu conceito foi:', conceito, 'e ele está', resultado) "
   ]
  },
  {
   "cell_type": "code",
   "execution_count": 58,
   "metadata": {},
   "outputs": [
    {
     "name": "stdout",
     "output_type": "stream",
     "text": [
      "O ano de 2040 é bissexto\n"
     ]
    }
   ],
   "source": [
    "# questão 6\n",
    "ano = int(input('Informe o ano para saber se ele é bissexto'))\n",
    "\n",
    "if (ano % 4 == 0 and ano % 100 != 0): \n",
    "    print('O ano de', ano, 'é bissexto')\n",
    "else: \n",
    "    print('O ano de', ano, 'não é bissexto')"
   ]
  },
  {
   "cell_type": "code",
   "execution_count": 48,
   "metadata": {},
   "outputs": [
    {
     "name": "stdout",
     "output_type": "stream",
     "text": [
      "O resultado da soma entre os números 10.0 e 20.0 é: 30.0 sendo o resultado um número POSITIVO PAR INTEIRO\n"
     ]
    }
   ],
   "source": [
    "# questao 7\n",
    "numero1 = float((input('Digite um número')))\n",
    "numero2 = float((input('Digite outro número')))\n",
    "escolha = input('Escolha umas das opções aritméticas: 1-Soma, 2-Subtração, 3-Multiplicação, 4-Divisão, 5-Exponenciação')\n",
    "\n",
    "soma = numero1 + numero2\n",
    "subtracao = numero1 - numero2\n",
    "multiplicacao = numero1 * numero2\n",
    "divisao = numero1 / numero2\n",
    "exponenciacao = numero1 ** numero2\n",
    "\n",
    "if (escolha == '1'):\n",
    "    if (soma > 0):\n",
    "        positivoOuNegativo = 'POSITIVO'\n",
    "    else:\n",
    "        positivoOuNegativo = 'NEGATIVO'\n",
    "    if (soma % 2 == 0):\n",
    "        parOuImpar = 'PAR'\n",
    "    else:\n",
    "        parOuImpar = 'IMPAR'\n",
    "    if (soma == int(soma)):\n",
    "        tipoNumero = 'INTEIRO'\n",
    "    else:\n",
    "        tipoNumero = 'DECIMAL'\n",
    "    \n",
    "    print('O resultado da soma entre os números', numero1, 'e', numero2, 'é:', soma, 'sendo o resultado um número', positivoOuNegativo, parOuImpar, tipoNumero)\n",
    "elif (escolha == '2'):\n",
    "    if (subtracao > 0):\n",
    "        positivoOuNegativo = 'POSITIVO'\n",
    "    else:\n",
    "        positivoOuNegativo = 'NEGATIVO'\n",
    "    if (subtracao % 2 == 0):\n",
    "        parOuImpar = 'PAR'\n",
    "    else:\n",
    "        parOuImpar = 'IMPAR'\n",
    "    if (subtracao == int(subtracao)):\n",
    "        tipoNumero = 'INTEIRO'\n",
    "    else:\n",
    "        tipoNumero = 'DECIMAL'\n",
    "    \n",
    "    print('O resultado da subtração entre os números', numero1, 'e', numero2, 'é:', subtracao, 'sendo o resultado um número', positivoOuNegativo, parOuImpar, tipoNumero)\n",
    "elif (escolha == '3'):\n",
    "    if (multiplicacao > 0):\n",
    "        positivoOuNegativo = 'POSITIVO'\n",
    "    else:\n",
    "        positivoOuNegativo = 'NEGATIVO'\n",
    "    if (multiplicacao % 2 == 0):\n",
    "        parOuImpar = 'PAR'\n",
    "    else:\n",
    "        parOuImpar = 'IMPAR'\n",
    "    if (multiplicacao == int(multiplicacao)):\n",
    "        tipoNumero = 'INTEIRO'\n",
    "    else:\n",
    "        tipoNumero = 'DECIMAL'\n",
    "    \n",
    "    print('O resultado da multiplicação entre os números', numero1, 'e', numero2, 'é:', multiplicacao, 'sendo o resultado um número', positivoOuNegativo, parOuImpar, tipoNumero)\n",
    "elif (escolha == '4'):\n",
    "    if (divisao > 0):\n",
    "        positivoOuNegativo = 'POSITIVO'\n",
    "    else:\n",
    "        positivoOuNegativo = 'NEGATIVO'\n",
    "    if (divisao % 2 == 0):\n",
    "        parOuImpar = 'PAR'\n",
    "    else:\n",
    "        parOuImpar = 'IMPAR'\n",
    "    if (divisao == int(divisao)):\n",
    "        tipoNumero = 'INTEIRO'\n",
    "    else:\n",
    "        tipoNumero = 'DECIMAL'\n",
    "    \n",
    "    print('O resultado da divisao entre os números', numero1, 'e', numero2, 'é:', divisao, 'sendo o resultado um número', positivoOuNegativo, parOuImpar, tipoNumero)\n",
    "elif (escolha == '5'):\n",
    "    if (exponenciacao > 0):\n",
    "        positivoOuNegativo = 'POSITIVO'\n",
    "    else:\n",
    "        positivoOuNegativo = 'NEGATIVO'\n",
    "    if (exponenciacao % 2 == 0):\n",
    "        parOuImpar = 'PAR'\n",
    "    else:\n",
    "        parOuImpar = 'IMPAR'\n",
    "    if (exponenciacao == int(exponenciacao)):\n",
    "        tipoNumero = 'INTEIRO'\n",
    "    else:\n",
    "        tipoNumero = 'DECIMAL'\n",
    "    \n",
    "    print('O resultado da exponenciação entre os números', numero1, 'e', numero2, 'é:', exponenciacao, 'sendo o resultado um número', positivoOuNegativo, parOuImpar, tipoNumero)\n",
    "else:\n",
    "    print('Opção inválida!')\n"
   ]
  },
  {
   "cell_type": "code",
   "execution_count": 50,
   "metadata": {},
   "outputs": [
    {
     "name": "stdout",
     "output_type": "stream",
     "text": [
      "A sua idade é: 2 anos\n"
     ]
    }
   ],
   "source": [
    "# questão 8\n",
    "idade = int(input('Digite uma idade entre 0 e 150 anos'))\n",
    "\n",
    "if (idade <= 1): \n",
    "    anoOuAnos = 'ano'\n",
    "else:\n",
    "    anoOuAnos = 'anos'\n",
    "            \n",
    "if (idade <= 150 and idade >= 0):\n",
    "    print('A sua idade é:', idade, anoOuAnos)\n",
    "else: \n",
    "    print('Idade inválida. Tente novamente!')\n"
   ]
  },
  {
   "cell_type": "code",
   "execution_count": 1,
   "metadata": {},
   "outputs": [
    {
     "name": "stdout",
     "output_type": "stream",
     "text": [
      "numeros inseridos: 27.0\n"
     ]
    }
   ],
   "source": [
    "# questão 9\n",
    "numeros = []\n",
    "soma = 0\n",
    "media = 0\n",
    "quantidadeNumeros = 0\n",
    "\n",
    "for i in range (5):\n",
    "    numero = float(input('Digite um número'))\n",
    "    numeros.append(numero)\n",
    "    soma += numero\n",
    "    quantidadeNumeros += 1\n",
    "\n",
    "media = soma / quantidadeNumeros\n",
    "\n",
    "print('média dos números inseridos:', media)"
   ]
  },
  {
   "cell_type": "code",
   "execution_count": 47,
   "metadata": {},
   "outputs": [
    {
     "name": "stdout",
     "output_type": "stream",
     "text": [
      "17 é um número primo\n"
     ]
    }
   ],
   "source": [
    "# questao 10\n",
    "numero = int(input('Digite um número inteiro'))\n",
    "listaNumeros = []\n",
    "i = 1\n",
    "for i in range(1, numero + 1):\n",
    "    if (numero % i == 0):\n",
    "        listaNumeros.append(i)\n",
    "\n",
    "if (len(listaNumeros) > 2):\n",
    "    print(numero, 'não é um número primo')\n",
    "else:\n",
    "    print(numero, 'é um número primo')"
   ]
  },
  {
   "cell_type": "code",
   "execution_count": 13,
   "metadata": {},
   "outputs": [
    {
     "name": "stdout",
     "output_type": "stream",
     "text": [
      "Bem-vindo a calculadora da média de temperaturas. Informe 5 temperaturas para obter a média, a menor e maior temperatura informada.\n",
      "A média das temperaturas é: 25.68\n",
      "A temperatura 15.5 é a menor registrada.\n",
      "A temperatura 40.5 foi a maior registrada.\n"
     ]
    }
   ],
   "source": [
    "# questão 11\n",
    "print('Bem-vindo a calculadora da média de temperaturas. Informe 5 temperaturas para obter a média, a menor e maior temperatura informada.')\n",
    "temperaturas = []\n",
    "soma = 0\n",
    "media = 0\n",
    "quantidadeTemp = 0\n",
    "\n",
    "for i in range(5):\n",
    "    temp = float(input('Digite as temperaturas'))\n",
    "    temperaturas.append(temp)\n",
    "    soma += temp\n",
    "    quantidadeTemp += 1\n",
    "\n",
    "media = soma / quantidadeTemp\n",
    "textoMedia = print('A média das temperaturas é:', media)\n",
    "\n",
    "if (temperaturas[0] < temperaturas[1] and temperaturas[0] < temperaturas[2] and temperaturas[0] < temperaturas[3] and temperaturas[0] < temperaturas[4]):\n",
    "    print('A temperatura', temperaturas[0], 'é a menor registrada.')\n",
    "    textoMedia\n",
    "elif (temperaturas[1] < temperaturas[2] and temperaturas[1] < temperaturas[3] and temperaturas[1] < temperaturas[4]): \n",
    "    print('A temperatura', temperaturas[1], 'é a menor registrada.')\n",
    "    textoMedia\n",
    "elif (temperaturas[2] < temperaturas[3] and temperaturas[2] < temperaturas[4]):\n",
    "    print('A temperatura', temperaturas[2], 'é a menor registrada.')\n",
    "    textoMedia\n",
    "elif (temperaturas[3] < temperaturas[4]):\n",
    "    print('A temperatura', temperaturas[3], 'é a menor registrada.')\n",
    "    textoMedia\n",
    "else:\n",
    "    print('A temperatura', temperaturas[4], 'é a menor registrada.')\n",
    "    textoMedia\n",
    "\n",
    "maiorTemp = temperaturas[0]\n",
    "for temp in temperaturas:\n",
    "    if (temp > maiorTemp):\n",
    "        maiorTemp = temp\n",
    "\n",
    "print('A temperatura', maiorTemp, 'foi a maior registrada.')"
   ]
  },
  {
   "cell_type": "code",
   "execution_count": 7,
   "metadata": {},
   "outputs": [
    {
     "name": "stdout",
     "output_type": "stream",
     "text": [
      "Olá, você precisa informar o saldo médio de cada mês para o cálculo da média de saldo anual e a obtenção ou não do crédito especial\n",
      "O seu saldo médio anual foi de: R$ 648.8233333333333\n",
      "Você obteve um crédito especial de 40%\n",
      "O seu crédito especial é de: R$ 259.52933333333334\n"
     ]
    }
   ],
   "source": [
    "# questao 12\n",
    "print('Olá, você precisa informar o saldo médio de cada mês para o cálculo da média de saldo anual e a obtenção ou não do crédito especial')\n",
    "saldoMeses = []\n",
    "saldo = 0\n",
    "soma = 0\n",
    "media = 0\n",
    "creditoEspecial = 0\n",
    "\n",
    "for i in range(12):\n",
    "    saldo = float(input('Digite o saldo médio de cada mês'))\n",
    "    saldoMeses.append(saldo)\n",
    "    soma += saldo\n",
    "    media = soma / 12\n",
    "\n",
    "print('O seu saldo médio anual foi de: R$', media)\n",
    "if (media >= 201 and media <= 400):\n",
    "    creditoEspecial += media * 0.2\n",
    "    print('Você obteve um crédito especial de 20%')\n",
    "    print('O seu crédito especial é de: R$', creditoEspecial) \n",
    "elif (media >= 401 and media <= 600):\n",
    "    creditoEspecial += media * 0.3\n",
    "    print('Você obteve um crédito especial de 30%')\n",
    "    print('O seu crédito especial é de: R$', creditoEspecial) \n",
    "elif (media > 600):\n",
    "    creditoEspecial += media * 0.4\n",
    "    print('Você obteve um crédito especial de 40%')\n",
    "    print('O seu crédito especial é de: R$', creditoEspecial) \n",
    "else: \n",
    "    print('Você infelizmente não ganhou crédito especial')"
   ]
  },
  {
   "cell_type": "code",
   "execution_count": 28,
   "metadata": {},
   "outputs": [
    {
     "name": "stdout",
     "output_type": "stream",
     "text": [
      "Olá Roni Paixão , seja bem-vindo\n",
      "A sua idade é 30 e você se aposentará no ano: 2059\n"
     ]
    }
   ],
   "source": [
    "# questão 13\n",
    "nome = input('Qual o seu nome?')\n",
    "idade = int(input('Digite a sua idade para saber quanto tempo falta para a sua aposentadoria'))\n",
    "aposentadoria = 65\n",
    "anoAtual = 2024\n",
    "\n",
    "print('Olá', nome, ', seja bem-vindo')\n",
    "if (idade < aposentadoria):\n",
    "    calculaTempoAposentadoria = (aposentadoria - idade) + anoAtual\n",
    "    print('A sua idade é', idade,'e você se aposentará no ano:', calculaTempoAposentadoria)\n",
    "else:\n",
    "    print('Você já deveria estar aposentado. Corra no INSS agora mesmo!')"
   ]
  },
  {
   "cell_type": "code",
   "execution_count": 32,
   "metadata": {},
   "outputs": [
    {
     "name": "stdout",
     "output_type": "stream",
     "text": [
      "O seu salário bruto é: R$ 4320.0\n",
      "O seu desconto do sindicato é de R$ 129.6\n",
      "O desconto do imposto de renda é de: R$ 1188.0\n",
      "O seu salário líquido no mês é de: R$ 3002.3999999999996\n"
     ]
    }
   ],
   "source": [
    "# questão 14\n",
    "valorHora = float(input('Qual o valor da sua hora de trabalho?'))\n",
    "horasTrabalhadasMes = float(input('Quantas horas você trabalhou no mês?'))\n",
    "salarioBruto = valorHora * horasTrabalhadasMes\n",
    "descontoIr = 0\n",
    "descontoSindicato = salarioBruto * 0.03\n",
    "salarioLiquido = 0\n",
    "\n",
    "print('O seu salário bruto é: R$', salarioBruto)\n",
    "print('O seu desconto do sindicato é de R$', descontoSindicato)\n",
    "if (salarioBruto > 2.11200 and salarioBruto < 2.82665):\n",
    "    descontoIr += salarioBruto * 0.075\n",
    "    print('O desconto do imposto de renda é de: R$', descontoIr)\n",
    "    salarioLiquido = salarioBruto - descontoSindicato - descontoIr\n",
    "    print('O seu salário líquido no mês é de: R$', salarioLiquido)\n",
    "elif (salarioBruto > 2.82665 and salarioBruto < 3.75105):\n",
    "    descontoIr += salarioBruto * 0.15\n",
    "    print('O desconto do imposto de renda é de: R$', descontoIr)\n",
    "    salarioLiquido = salarioBruto - descontoSindicato - descontoIr\n",
    "    print('O seu salário líquido no mês é de: R$', salarioLiquido)\n",
    "elif (salarioBruto > 3.75105 and salarioBruto < 4.66468):\n",
    "    descontoIr += salarioBruto * 0.225\n",
    "    print('O desconto do imposto de renda é de: R$', descontoIr)\n",
    "    salarioLiquido = salarioBruto - descontoSindicato - descontoIr\n",
    "    print('O seu salário líquido no mês é de: R$', salarioLiquido)\n",
    "elif (salarioBruto > 4.66468):\n",
    "    descontoIr += salarioBruto * 0.275\n",
    "    print('O desconto do imposto de renda é de: R$', descontoIr)\n",
    "    salarioLiquido = salarioBruto - descontoSindicato - descontoIr\n",
    "    print('O seu salário líquido no mês é de: R$', salarioLiquido)\n",
    "else:\n",
    "    salarioLiquido = salarioBruto - descontoSindicato\n",
    "    print('O seu salário líquido no mês é de: R$', salarioLiquido)"
   ]
  }
 ],
 "metadata": {
  "kernelspec": {
   "display_name": "Python 3",
   "language": "python",
   "name": "python3"
  },
  "language_info": {
   "codemirror_mode": {
    "name": "ipython",
    "version": 3
   },
   "file_extension": ".py",
   "mimetype": "text/x-python",
   "name": "python",
   "nbconvert_exporter": "python",
   "pygments_lexer": "ipython3",
   "version": "3.9.9"
  }
 },
 "nbformat": 4,
 "nbformat_minor": 2
}
