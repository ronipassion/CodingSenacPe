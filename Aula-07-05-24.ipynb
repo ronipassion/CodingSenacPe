{
 "cells": [
  {
   "cell_type": "code",
   "execution_count": 2,
   "metadata": {},
   "outputs": [
    {
     "name": "stdout",
     "output_type": "stream",
     "text": [
      "Estamos no elemento: 1\n",
      "Estamos no elemento: 2\n",
      "Estamos no elemento: 3\n",
      "Estamos no elemento: 4\n",
      "Estamos no elemento: 5\n",
      "Estamos no elemento: 6\n"
     ]
    }
   ],
   "source": [
    "for elemento in [1, 2, 3, 4, 5, 6]:\n",
    "    print('Estamos no elemento:', elemento)"
   ]
  },
  {
   "cell_type": "code",
   "execution_count": 4,
   "metadata": {},
   "outputs": [
    {
     "name": "stdout",
     "output_type": "stream",
     "text": [
      "Estamos no elemento S\n",
      "Estamos no elemento T\n",
      "Estamos no elemento R\n",
      "Estamos no elemento I\n",
      "Estamos no elemento N\n",
      "Estamos no elemento G\n"
     ]
    }
   ],
   "source": [
    "for elemento in 'STRING':\n",
    "    print('Estamos no elemento', elemento)"
   ]
  },
  {
   "cell_type": "code",
   "execution_count": 7,
   "metadata": {},
   "outputs": [
    {
     "name": "stdout",
     "output_type": "stream",
     "text": [
      "Estamos no elemento 0\n",
      "Estamos no elemento 1\n",
      "Estamos no elemento 2\n",
      "Estamos no elemento 3\n",
      "Estamos no elemento 4\n",
      "Estamos no elemento 5\n"
     ]
    }
   ],
   "source": [
    "for elemento in range(len(\"STRING\")):\n",
    "    print('Estamos no elemento', elemento)"
   ]
  },
  {
   "cell_type": "code",
   "execution_count": 9,
   "metadata": {},
   "outputs": [
    {
     "name": "stdout",
     "output_type": "stream",
     "text": [
      "Estamos no elemento 0\n",
      "Estamos no elemento 1\n",
      "Estamos no elemento 2\n",
      "Estamos no elemento 3\n",
      "Estamos no elemento 4\n",
      "Estamos no elemento 5\n",
      "Estamos no elemento 6\n"
     ]
    }
   ],
   "source": [
    "elemento = 0\n",
    "\n",
    "while elemento <= len([1, 2, 3, 4, 5, 6]):\n",
    "    print('Estamos no elemento', elemento)\n",
    "    elemento += 1"
   ]
  },
  {
   "cell_type": "code",
   "execution_count": 11,
   "metadata": {},
   "outputs": [
    {
     "name": "stdout",
     "output_type": "stream",
     "text": [
      "Estamos no elemento S\n",
      "Estamos no elemento T\n",
      "Estamos no elemento R\n",
      "Estamos no elemento I\n",
      "Estamos no elemento N\n",
      "Estamos no elemento G\n"
     ]
    }
   ],
   "source": [
    "s= 'STRING'\n",
    "indice = 0\n",
    "\n",
    "while indice in range (len (s)):\n",
    "    print(\"Estamos no elemento\", s[indice])\n",
    "    indice += 1"
   ]
  },
  {
   "cell_type": "code",
   "execution_count": 15,
   "metadata": {},
   "outputs": [
    {
     "name": "stdout",
     "output_type": "stream",
     "text": [
      "0 t\n",
      "1 r\n",
      "2 a\n",
      "a\n",
      "2\n"
     ]
    }
   ],
   "source": [
    "palavra = 'tranquilo'\n",
    "for indice, letra in enumerate(palavra):\n",
    "    print(indice, letra)\n",
    "\n",
    "print(letra)\n",
    "print(indice)"
   ]
  },
  {
   "cell_type": "code",
   "execution_count": 28,
   "metadata": {},
   "outputs": [
    {
     "name": "stdout",
     "output_type": "stream",
     "text": [
      "Tipo: <class 'enumerate'>\n",
      "[(0, 'eat'), (1, 'sleep'), (2, 'repeat')]\n",
      "Tipo: <class 'enumerate'>\n",
      "[(0, 'g'), (1, 'e'), (2, 'e'), (3, 'k')]\n"
     ]
    }
   ],
   "source": [
    "lista = ['eat', 'sleep', 'repeat']\n",
    "palavra = 'geek'\n",
    "\n",
    "objeto1 = enumerate(lista)\n",
    "objeto2 = enumerate(palavra)\n",
    "print(\"Tipo:\", type(objeto1))\n",
    "print(list(enumerate(lista)))\n",
    "print(\"Tipo:\", type(objeto2))\n",
    "print(list(enumerate(palavra)))"
   ]
  },
  {
   "cell_type": "code",
   "execution_count": 29,
   "metadata": {},
   "outputs": [
    {
     "name": "stdout",
     "output_type": "stream",
     "text": [
      "[(2, 'g'), (3, 'e'), (4, 'e'), (5, 'k')]\n"
     ]
    }
   ],
   "source": [
    "print(list(enumerate(palavra, 2)))"
   ]
  },
  {
   "cell_type": "code",
   "execution_count": 31,
   "metadata": {},
   "outputs": [
    {
     "name": "stdout",
     "output_type": "stream",
     "text": [
      "Oi\n",
      "Oi\n",
      "Oi\n",
      "Oi\n",
      "Oi\n"
     ]
    }
   ],
   "source": [
    "s = 'viva o python'\n",
    "for ch in s[3:8]:\n",
    "    print('Oi')"
   ]
  },
  {
   "cell_type": "code",
   "execution_count": 37,
   "metadata": {},
   "outputs": [
    {
     "name": "stdout",
     "output_type": "stream",
     "text": [
      "A quantidade de números pares é:  0\n",
      "A quantidade de números ímpares é:  10\n"
     ]
    }
   ],
   "source": [
    "numeroPar = 0\n",
    "numeroImpar = 0\n",
    "\n",
    "for numero in range(0, 10):\n",
    "    numeroIn = int(input(\"Digite um número\"))\n",
    "    if numeroIn % 2 == 0:\n",
    "        numeroPar += 1\n",
    "    else:\n",
    "        numeroImpar += 1\n",
    "\n",
    "print(\"A quantidade de números pares é: \", numeroPar)\n",
    "print(\"A quantidade de números ímpares é: \", numeroImpar)"
   ]
  }
 ],
 "metadata": {
  "kernelspec": {
   "display_name": "Python 3",
   "language": "python",
   "name": "python3"
  },
  "language_info": {
   "codemirror_mode": {
    "name": "ipython",
    "version": 3
   },
   "file_extension": ".py",
   "mimetype": "text/x-python",
   "name": "python",
   "nbconvert_exporter": "python",
   "pygments_lexer": "ipython3",
   "version": "3.11.4"
  }
 },
 "nbformat": 4,
 "nbformat_minor": 2
}
