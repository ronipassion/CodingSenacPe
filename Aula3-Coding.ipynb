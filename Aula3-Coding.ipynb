{
 "cells": [
  {
   "cell_type": "code",
   "execution_count": 1,
   "metadata": {},
   "outputs": [
    {
     "name": "stdout",
     "output_type": "stream",
     "text": [
      "Bem-vindo: Roni\n"
     ]
    }
   ],
   "source": [
    "nome= input(\"Digite o seu nome?\")\n",
    "print(\"Bem-vindo: \" + nome)"
   ]
  },
  {
   "cell_type": "code",
   "execution_count": 13,
   "metadata": {},
   "outputs": [],
   "source": [
    "idade= int(input(\"Digite a sua idade: \"))"
   ]
  },
  {
   "cell_type": "code",
   "execution_count": 5,
   "metadata": {},
   "outputs": [
    {
     "name": "stdout",
     "output_type": "stream",
     "text": [
      "Bem-vindo Roni.Você tem 30 anos de idade.\n"
     ]
    }
   ],
   "source": [
    "print(\"Bem-vindo \" + nome + \".\" + \"Você tem \" + idade + \" anos de idade.\")"
   ]
  },
  {
   "cell_type": "code",
   "execution_count": 9,
   "metadata": {},
   "outputs": [
    {
     "name": "stdout",
     "output_type": "stream",
     "text": [
      "Bem-vindo Roni. Você tem 30 anos de idade.\n"
     ]
    }
   ],
   "source": [
    "print(\"Bem-vindo\", nome + \". Você tem\", idade, \"anos de idade.\")"
   ]
  },
  {
   "cell_type": "code",
   "execution_count": 14,
   "metadata": {},
   "outputs": [
    {
     "data": {
      "text/plain": [
       "int"
      ]
     },
     "execution_count": 14,
     "metadata": {},
     "output_type": "execute_result"
    }
   ],
   "source": [
    "type(idade)"
   ]
  },
  {
   "cell_type": "code",
   "execution_count": 15,
   "metadata": {},
   "outputs": [],
   "source": [
    "valor1 = int(input(\"Digite um número inteiro: \"))\n",
    "valor2 = int(input(\"Digite outro número inteiro: \"))\n"
   ]
  },
  {
   "cell_type": "code",
   "execution_count": 16,
   "metadata": {},
   "outputs": [
    {
     "name": "stdout",
     "output_type": "stream",
     "text": [
      "False\n",
      "False\n",
      "True\n",
      "False\n",
      "True\n"
     ]
    }
   ],
   "source": [
    "print(valor1 == valor2)\n",
    "print(valor1 > valor2)\n",
    "print(valor1 < valor2)\n",
    "print(valor1 >= valor2)\n",
    "print(valor1  <= valor2)"
   ]
  },
  {
   "cell_type": "code",
   "execution_count": 27,
   "metadata": {},
   "outputs": [
    {
     "name": "stdout",
     "output_type": "stream",
     "text": [
      "True\n"
     ]
    }
   ],
   "source": [
    "senha = 12345\n",
    "_senha = int(input(\"Digite a senha\"))\n",
    "print(senha == _senha)"
   ]
  },
  {
   "cell_type": "code",
   "execution_count": 25,
   "metadata": {},
   "outputs": [
    {
     "name": "stdout",
     "output_type": "stream",
     "text": [
      "False\n",
      "True\n"
     ]
    }
   ],
   "source": [
    "numero = 10\n",
    "print(numero>0 and numero<10)\n",
    "print(numero>0 or numero<10)"
   ]
  },
  {
   "cell_type": "code",
   "execution_count": 29,
   "metadata": {},
   "outputs": [
    {
     "name": "stdout",
     "output_type": "stream",
     "text": [
      "Acesso aprovado\n"
     ]
    }
   ],
   "source": [
    "if(senha == _senha):\n",
    "    print(\"Acesso aprovado\")\n",
    "else: \n",
    "    print(\"Acesso negado\")"
   ]
  },
  {
   "cell_type": "code",
   "execution_count": 34,
   "metadata": {},
   "outputs": [
    {
     "name": "stdout",
     "output_type": "stream",
     "text": [
      "O número não é par.\n"
     ]
    }
   ],
   "source": [
    "numeroUsuario = int(input(\"Digite um número para conferir se ele é par ou ímpar: \"))\n",
    "parOuImpar = numeroUsuario%2\n",
    "if(parOuImpar == 0):\n",
    "    print(\"O número é par.\")\n",
    "else:\n",
    "    print(\"O número não é par.\")"
   ]
  },
  {
   "cell_type": "code",
   "execution_count": 35,
   "metadata": {},
   "outputs": [
    {
     "name": "stdout",
     "output_type": "stream",
     "text": [
      "O número é ímpar\n"
     ]
    }
   ],
   "source": [
    "numero= int(input(\"Digite um número\"))\n",
    "if(numero %  2 ==0):\n",
    "    print(\"O número é par\")\n",
    "else:\n",
    "    print(\"O número é ímpar\")\n"
   ]
  },
  {
   "cell_type": "code",
   "execution_count": 38,
   "metadata": {},
   "outputs": [
    {
     "name": "stdout",
     "output_type": "stream",
     "text": [
      "Você ganhou 10% de desconto\n"
     ]
    }
   ],
   "source": [
    "cupom = input(\"Digite o cupom: \")\n",
    "if(cupom == \"aula1\" or cupom == \"aula2\"):\n",
    "    print(\"Você ganhou 10% de desconto\")"
   ]
  },
  {
   "cell_type": "code",
   "execution_count": 42,
   "metadata": {},
   "outputs": [
    {
     "name": "stdout",
     "output_type": "stream",
     "text": [
      "eita\n",
      "ola\n",
      "Então\n"
     ]
    }
   ],
   "source": [
    "if(2 > 7):\n",
    "    print(\"verdadeiro aqui\")\n",
    "else:\n",
    "    print(\"eita\")\n",
    "    print(\"ola\")\n",
    "print(\"Então\")"
   ]
  }
 ],
 "metadata": {
  "kernelspec": {
   "display_name": "Python 3",
   "language": "python",
   "name": "python3"
  },
  "language_info": {
   "codemirror_mode": {
    "name": "ipython",
    "version": 3
   },
   "file_extension": ".py",
   "mimetype": "text/x-python",
   "name": "python",
   "nbconvert_exporter": "python",
   "pygments_lexer": "ipython3",
   "version": "3.11.4"
  }
 },
 "nbformat": 4,
 "nbformat_minor": 2
}
