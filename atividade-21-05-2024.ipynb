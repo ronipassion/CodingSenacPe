{
 "cells": [
  {
   "cell_type": "code",
   "execution_count": 42,
   "metadata": {},
   "outputs": [
    {
     "name": "stdout",
     "output_type": "stream",
     "text": [
      "5 patinhos foram passear, mas só  4 voltaram de lá\n",
      "4 patinhos foram passear, mas só  3 voltaram de lá\n",
      "3 patinhos foram passear, mas só  2 voltaram de lá\n",
      "2 patinhos foram passear, mas só 1 voltou de lá\n",
      "1 patino foi passear, mas nenhum voltou de lá\n"
     ]
    }
   ],
   "source": [
    "patos = 5\n",
    "n = 5\n",
    "for i in range(5):\n",
    "    n = n - 1\n",
    "    if (n > 0):\n",
    "        if (n == 1):\n",
    "            print(patos, \"patinhos foram passear, mas só\", n, \"voltou de lá\")\n",
    "            \n",
    "        else:\n",
    "            print(patos, \"patinhos foram passear, mas só \", n, \"voltaram de lá\")\n",
    "        patos = patos - 1\n",
    "    else:\n",
    "        print(patos, \"patino foi passear, mas nenhum voltou de lá\")"
   ]
  },
  {
   "cell_type": "code",
   "execution_count": 48,
   "metadata": {},
   "outputs": [
    {
     "name": "stdout",
     "output_type": "stream",
     "text": [
      "Mariana conta  1  é  []\n",
      "Mariana conta  2  é  [1]\n",
      "Mariana conta  3  é  [1, 2]\n",
      "Mariana conta  4  é  [1, 2, 3]\n",
      "Mariana conta  5  é  [1, 2, 3, 4]\n",
      "Mariana conta  6  é  [1, 2, 3, 4, 5]\n",
      "Mariana conta  7  é  [1, 2, 3, 4, 5, 6]\n",
      "Mariana conta  8  é  [1, 2, 3, 4, 5, 6, 7]\n",
      "Mariana conta  9  é  [1, 2, 3, 4, 5, 6, 7, 8]\n",
      "Mariana conta  10  é  [1, 2, 3, 4, 5, 6, 7, 8, 9]\n"
     ]
    }
   ],
   "source": [
    "numeros = [1, 2, 3, 4, 5, 6, 7, 8, 9, 10]\n",
    "n = 1\n",
    "for i in range(10):\n",
    "    n = n + 1\n",
    "    print(\"Mariana conta \", numeros[i], \" é \", numeros[0:i])"
   ]
  },
  {
   "cell_type": "code",
   "execution_count": 63,
   "metadata": {},
   "outputs": [
    {
     "name": "stdout",
     "output_type": "stream",
     "text": [
      "Mariana conta 1. É 1\n",
      "Mariana conta  2  é  [1, 2]\n",
      "Mariana conta  3  é  [1, 2, 3]\n",
      "Mariana conta  4  é  [1, 2, 3, 4]\n",
      "Mariana conta  5  é  [1, 2, 3, 4, 5]\n",
      "Mariana conta  6  é  [1, 2, 3, 4, 5, 6]\n",
      "Mariana conta  7  é  [1, 2, 3, 4, 5, 6, 7]\n",
      "Mariana conta  8  é  [1, 2, 3, 4, 5, 6, 7, 8]\n",
      "Mariana conta  9  é  [1, 2, 3, 4, 5, 6, 7, 8, 9]\n",
      "Mariana conta  10  é  [1, 2, 3, 4, 5, 6, 7, 8, 9, 10]\n"
     ]
    }
   ],
   "source": [
    "numeros = [1, 2, 3, 4, 5, 6, 7, 8, 9, 10]\n",
    "i = 1\n",
    "for i in numeros:\n",
    "    if (i == 1):\n",
    "        print(\"Mariana conta 1. É 1\")\n",
    "    else:\n",
    "        print(\"Mariana conta \", i, \" é \", numeros[0:i])"
   ]
  },
  {
   "cell_type": "code",
   "execution_count": 97,
   "metadata": {},
   "outputs": [
    {
     "name": "stdout",
     "output_type": "stream",
     "text": [
      "1  elefante incomoda muita gente\n",
      "2  elefantes  incomodam incomodam  muito mais\n",
      "3  elefantes incomodam muita gente\n",
      "4  elefantes  incomodam incomodam incomodam incomodam  muito mais\n",
      "5  elefantes incomodam muita gente\n",
      "6  elefantes  incomodam incomodam incomodam incomodam incomodam incomodam  muito mais\n",
      "7  elefantes incomodam muita gente\n",
      "8  elefantes  incomodam incomodam incomodam incomodam incomodam incomodam incomodam incomodam  muito mais\n",
      "9  elefantes incomodam muita gente\n",
      "10  elefantes  incomodam incomodam incomodam incomodam incomodam incomodam incomodam incomodam incomodam incomodam  muito mais\n"
     ]
    }
   ],
   "source": [
    "elefante = 1\n",
    "i = 1\n",
    "\n",
    "for i in range(10):\n",
    "   if (elefante == 1):\n",
    "      print(elefante, \" elefante incomoda muita gente\")  \n",
    "   else:\n",
    "       if (elefante % 2 == 0):\n",
    "         print(elefante, \" elefantes \", \"incomodam \" * elefante, \"muito mais\")  \n",
    "       else:\n",
    "         print(elefante, \" elefantes incomodam muita gente\")\n",
    "   elefante += 1 \n",
    "         \n",
    "      "
   ]
  }
 ],
 "metadata": {
  "kernelspec": {
   "display_name": "Python 3",
   "language": "python",
   "name": "python3"
  },
  "language_info": {
   "codemirror_mode": {
    "name": "ipython",
    "version": 3
   },
   "file_extension": ".py",
   "mimetype": "text/x-python",
   "name": "python",
   "nbconvert_exporter": "python",
   "pygments_lexer": "ipython3",
   "version": "3.11.4"
  }
 },
 "nbformat": 4,
 "nbformat_minor": 2
}
