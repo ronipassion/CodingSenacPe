{
 "cells": [
  {
   "cell_type": "code",
   "execution_count": 5,
   "metadata": {},
   "outputs": [
    {
     "data": {
      "text/plain": [
       "33"
      ]
     },
     "execution_count": 5,
     "metadata": {},
     "output_type": "execute_result"
    }
   ],
   "source": [
    "dias = [3, 1, 10]\n",
    "dias[0]"
   ]
  },
  {
   "cell_type": "code",
   "execution_count": 6,
   "metadata": {},
   "outputs": [
    {
     "data": {
      "text/plain": [
       "[7, 8, 9]"
      ]
     },
     "execution_count": 6,
     "metadata": {},
     "output_type": "execute_result"
    }
   ],
   "source": [
    "Z = [3, 8, 9]\n",
    "Z[0] = 7\n",
    "Z"
   ]
  },
  {
   "cell_type": "code",
   "execution_count": 13,
   "metadata": {},
   "outputs": [
    {
     "name": "stdout",
     "output_type": "stream",
     "text": [
      "[6, 5, 5, 8, 9]\n",
      "[6, 5, 5, 8, 9]\n"
     ]
    }
   ],
   "source": [
    "V = [6, 7, 5, 8, 9]\n",
    "L = V\n",
    "L[1] = 5\n",
    "print(V)\n",
    "print(L)"
   ]
  },
  {
   "cell_type": "code",
   "execution_count": 10,
   "metadata": {},
   "outputs": [
    {
     "name": "stdout",
     "output_type": "stream",
     "text": [
      "True\n",
      "False\n",
      "[81, 82, 83]\n",
      "[5, 82, 83]\n"
     ]
    }
   ],
   "source": [
    "a = [81, 82, 83]\n",
    "b = a[:]\n",
    "print(a == b)\n",
    "print(a is b)\n",
    "b[0] = 5\n",
    "print(a)\n",
    "print(b)"
   ]
  },
  {
   "cell_type": "code",
   "execution_count": 18,
   "metadata": {},
   "outputs": [
    {
     "name": "stdout",
     "output_type": "stream",
     "text": [
      "['b', 'c']\n",
      "['a', 'b', 'c', 'd']\n",
      "['d', 'e', 'f']\n",
      "['a', 'b', 'c', 'd', 'e', 'f']\n"
     ]
    }
   ],
   "source": [
    "uma_lista = ['a', 'b', 'c', 'd', 'e', 'f']\n",
    "print(uma_lista[1:3])\n",
    "print(uma_lista[:4])\n",
    "print(uma_lista[3:])\n",
    "print(uma_lista[:])"
   ]
  },
  {
   "cell_type": "code",
   "execution_count": 24,
   "metadata": {},
   "outputs": [],
   "source": [
    "a = [1, 2, 3]\n",
    "b = a[:]"
   ]
  },
  {
   "cell_type": "code",
   "execution_count": 69,
   "metadata": {},
   "outputs": [
    {
     "name": "stdout",
     "output_type": "stream",
     "text": [
      "[76, 92.3, 'oi', True, 76, 'pitomba', 76]\n",
      "[76, 92.3, 'oi', 'Cibele', True, 76, 'pitomba', 76]\n",
      "[76, 92.3, 'oi', 'Cibele', True, 76, 'pitomba', 76, 99]\n",
      "indice 2 é oi\n",
      "[76, 92.3, 'oi', 'Cibele', 76, 'pitomba', 76, 99]\n"
     ]
    }
   ],
   "source": [
    "#desafio\n",
    "\n",
    "minhaLista = [76, 92.3, \"oi\", True, 76]\n",
    "#outraLista = minhaLista + [\"pitomba\", 76]\n",
    "#a)\n",
    "minhaLista += [\"pitomba\", 76]\n",
    "print(minhaLista)\n",
    "\n",
    "#b) \n",
    "minhaLista[:3] += [\"Cibele\"]\n",
    "print(minhaLista)\n",
    "\n",
    "#c)\n",
    "minhaLista[:8] += [99]\n",
    "print(minhaLista)\n",
    "\n",
    "#d)\n",
    "if (minhaLista[0] == \"oi\"):\n",
    "    print(\"indice  zero é 'oi'\")\n",
    "elif (minhaLista[1] == \"oi\"):\n",
    "    print(\"indice 1 é oi\")\n",
    "elif (minhaLista[2] == \"oi\"):\n",
    "    print(\"indice 2 é oi\")\n",
    "elif (minhaLista[3] == \"oi\"):\n",
    "    print(\"indice 3 é oi\")\n",
    "elif (minhaLista[4] == \"oi\"):\n",
    "    print(\"indice 4 é oi\")\n",
    "elif (minhaLista[5] == \"oi\"):\n",
    "    print(\"indice 5 é oi\")\n",
    "elif (minhaLista[6] == \"oi\"):\n",
    "     print(\"indice 6 é oi\")\n",
    "elif (minhaLista[7] == \"oi\"):\n",
    "    print(\"indice 7 é oi\")\n",
    "elif (minhaLista[8] == \"oi\"):\n",
    "    print(\"indice 8 é oi\")\n",
    "else: \n",
    "    print(\"Nenhum elemento da lista é 'oi'\")\n",
    "\n",
    "\n",
    "\n",
    "#e)\n",
    "minhaLista[4:5] = []\n",
    "print(minhaLista)"
   ]
  }
 ],
 "metadata": {
  "kernelspec": {
   "display_name": "Python 3",
   "language": "python",
   "name": "python3"
  },
  "language_info": {
   "codemirror_mode": {
    "name": "ipython",
    "version": 3
   },
   "file_extension": ".py",
   "mimetype": "text/x-python",
   "name": "python",
   "nbconvert_exporter": "python",
   "pygments_lexer": "ipython3",
   "version": "3.11.4"
  }
 },
 "nbformat": 4,
 "nbformat_minor": 2
}
