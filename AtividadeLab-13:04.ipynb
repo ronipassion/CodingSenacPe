{
 "cells": [
  {
   "cell_type": "code",
   "execution_count": 12,
   "metadata": {},
   "outputs": [
    {
     "name": "stdout",
     "output_type": "stream",
     "text": [
      "O produto do primeiro número e metade do segundo número é:  4.0\n",
      "A soma do triplo do primeiro número mais o terceiro elevado ao cubo é:  14.0\n"
     ]
    }
   ],
   "source": [
    "#questao 1:\n",
    "primeiroNumero = int((input)(\"Digite um número inteiro não racional\"))\n",
    "segundoNumero = int(input(\"Digite outro número inteiro não racional\"))\n",
    "terceiroNumero = float(input(\"Agora digite um número racional\"))\n",
    "\n",
    "#a)\n",
    "produtoDobroPrimeiroNumeroMetadeSegundoNumero = (primeiroNumero * 2) * (segundoNumero / 2)\n",
    "print(\"O produto do primeiro número e metade do segundo número é: \", produtoDobroPrimeiroNumeroMetadeSegundoNumero)\n",
    "\n",
    "#b)\n",
    "somaTriploPrimeiroNumeroMaisTerceiroAoCubo = (primeiroNumero * 3) + (terceiroNumero ** 3)\n",
    "print(\"A soma do triplo do primeiro número mais o terceiro elevado ao cubo é: \", somaTriploPrimeiroNumeroMaisTerceiroAoCubo)\n"
   ]
  },
  {
   "cell_type": "code",
   "execution_count": 13,
   "metadata": {},
   "outputs": [
    {
     "name": "stdout",
     "output_type": "stream",
     "text": [
      "25\n"
     ]
    }
   ],
   "source": [
    "#questao 2: \n",
    "primeiroNumero = int(input(\"Digite o primeiro número da comparação\"))\n",
    "segundoNumero = int(input(\"Digite o segundo número da comparação\"))\n",
    "\n",
    "if (primeiroNumero > segundoNumero):\n",
    "    print(primeiroNumero)\n",
    "else: \n",
    "    print(segundoNumero)"
   ]
  },
  {
   "cell_type": "code",
   "execution_count": 20,
   "metadata": {},
   "outputs": [
    {
     "name": "stdout",
     "output_type": "stream",
     "text": [
      " número -1 é negativo\n"
     ]
    }
   ],
   "source": [
    "#questao 3:\n",
    "#Como estava em dúvida se consideraria 0 positivo, criei uma outra condição if para o caso em que o 0 é acionado.\n",
    "numero = int(input(\"Digite o número para saber se ele é positivo ou negativo\"))\n",
    "\n",
    "if (numero >= 0): \n",
    "    if (numero == 0):\n",
    "        print(\"O número\", numero, \"é neutro\")    \n",
    "    else:\n",
    "        print(\"O número\", numero, \"é positivo\")\n",
    "else:\n",
    "    print(\" número\", numero, \"é negativo\")"
   ]
  },
  {
   "cell_type": "code",
   "execution_count": 27,
   "metadata": {},
   "outputs": [
    {
     "name": "stdout",
     "output_type": "stream",
     "text": [
      "Reprovado\n"
     ]
    }
   ],
   "source": [
    "#questao 4:\n",
    "primeiraNota = float(input(\"Digite a primeira nota do aluno\"))\n",
    "segundaNota = float(input(\"Digite a segunda nota do aluno\"))\n",
    "media = (primeiraNota + segundaNota) / 2\n",
    "\n",
    "if (media >= 7):\n",
    "    print(\"Aprovado\")\n",
    "else:\n",
    "    print(\"Reprovado\")"
   ]
  }
 ],
 "metadata": {
  "kernelspec": {
   "display_name": "Python 3",
   "language": "python",
   "name": "python3"
  },
  "language_info": {
   "codemirror_mode": {
    "name": "ipython",
    "version": 3
   },
   "file_extension": ".py",
   "mimetype": "text/x-python",
   "name": "python",
   "nbconvert_exporter": "python",
   "pygments_lexer": "ipython3",
   "version": "3.9.9"
  }
 },
 "nbformat": 4,
 "nbformat_minor": 2
}
