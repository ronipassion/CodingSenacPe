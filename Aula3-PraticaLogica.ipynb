{
 "cells": [
  {
   "cell_type": "code",
   "execution_count": 5,
   "metadata": {},
   "outputs": [
    {
     "name": "stdout",
     "output_type": "stream",
     "text": [
      "O número escolhido foi:  10\n"
     ]
    }
   ],
   "source": [
    "numero = int(input('Digite um número: '))\n",
    "print(\"O número escolhido foi: \", numero)"
   ]
  },
  {
   "cell_type": "code",
   "execution_count": 7,
   "metadata": {},
   "outputs": [
    {
     "name": "stdout",
     "output_type": "stream",
     "text": [
      "O resultado da soma é:  33\n"
     ]
    }
   ],
   "source": [
    "numero2 = int(input(\"Digite o primeiro número\"))\n",
    "numero3 = int(input(\"Digite o segundo número\"))\n",
    "print(\"O resultado da soma é: \", numero2 + numero3)"
   ]
  },
  {
   "cell_type": "code",
   "execution_count": 11,
   "metadata": {},
   "outputs": [
    {
     "name": "stdout",
     "output_type": "stream",
     "text": [
      "A média das notas é:  7.566666666666666\n"
     ]
    }
   ],
   "source": [
    "nota1 = float(input(\"Digite a nota 1: \"))\n",
    "nota2 = float(input(\"Digite a nota 1: \"))\n",
    "nota3 = float(input(\"Digite a nota 1: \"))\n",
    "media = (nota1 + nota2 + nota3) / 3\n",
    "print(\"A média das notas é: \", media)"
   ]
  },
  {
   "cell_type": "code",
   "execution_count": 15,
   "metadata": {},
   "outputs": [
    {
     "name": "stdout",
     "output_type": "stream",
     "text": [
      "O seu salário do mês, já com os tributos é de: R$ 2272\n"
     ]
    }
   ],
   "source": [
    "salario = float(input(\"Quanto você ganha por hora?\"))\n",
    "horasTrabalho = float(input(\"Quantas horas você trabalha no mês?\"))\n",
    "salarioBruto = salario * horasTrabalho\n",
    "salarioDescontado = salarioBruto * 9/10 # Descontando 10%\n",
    "print(\"O seu salário do mês, já com os tributos é de: R$\", int(salarioDescontado))"
   ]
  },
  {
   "cell_type": "code",
   "execution_count": 11,
   "metadata": {},
   "outputs": [
    {
     "name": "stdout",
     "output_type": "stream",
     "text": [
      "Você precisa pagar a multa no valor de: R$ 12\n"
     ]
    }
   ],
   "source": [
    "limitePeso = 50\n",
    "pesoPescado = int(input(\"Quantos quilos você pescou hoje?\"))\n",
    "\n",
    "# A condição é necessária para conferir se o peso se encaixa ou não no critério da multa;\n",
    "if (pesoPescado > 50): \n",
    "    multa = (pesoPescado - limitePeso) * 4\n",
    "    print(\"Você precisa pagar a multa no valor de: R$\", multa)\n",
    "else:\n",
    "    print(\"Você não precisa pagar multa\")"
   ]
  }
 ],
 "metadata": {
  "kernelspec": {
   "display_name": "Python 3",
   "language": "python",
   "name": "python3"
  },
  "language_info": {
   "codemirror_mode": {
    "name": "ipython",
    "version": 3
   },
   "file_extension": ".py",
   "mimetype": "text/x-python",
   "name": "python",
   "nbconvert_exporter": "python",
   "pygments_lexer": "ipython3",
   "version": "3.11.4"
  }
 },
 "nbformat": 4,
 "nbformat_minor": 2
}
