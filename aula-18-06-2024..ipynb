{
 "cells": [
  {
   "cell_type": "code",
   "execution_count": 6,
   "metadata": {},
   "outputs": [],
   "source": [
    "def funcaoLeitura():\n",
    "    for num in range(5):\n",
    "        print(\"Número\", num)"
   ]
  },
  {
   "cell_type": "code",
   "execution_count": 7,
   "metadata": {},
   "outputs": [
    {
     "name": "stdout",
     "output_type": "stream",
     "text": [
      "Número 0\n",
      "Número 1\n",
      "Número 2\n",
      "Número 3\n",
      "Número 4\n"
     ]
    }
   ],
   "source": [
    "funcaoLeitura()"
   ]
  },
  {
   "cell_type": "code",
   "execution_count": 8,
   "metadata": {},
   "outputs": [],
   "source": [
    "def addNum(n1, n2):\n",
    "    print(\"Número 1:\", n1)\n",
    "    print(\"Número 2:\", n2)\n",
    "    print(\"A soma dos números é:\", n1 + n2)"
   ]
  },
  {
   "cell_type": "code",
   "execution_count": 11,
   "metadata": {},
   "outputs": [
    {
     "name": "stdout",
     "output_type": "stream",
     "text": [
      "Número 1: 4\n",
      "Número 2: 3\n",
      "A soma dos números é: 7\n"
     ]
    }
   ],
   "source": [
    "addNum(4, 3)"
   ]
  },
  {
   "cell_type": "code",
   "execution_count": 12,
   "metadata": {},
   "outputs": [
    {
     "name": "stdout",
     "output_type": "stream",
     "text": [
      "Número 1: 2\n",
      "Número 2: 6\n",
      "A soma dos números é: 8\n"
     ]
    }
   ],
   "source": [
    "addNum(2, 6)"
   ]
  },
  {
   "cell_type": "code",
   "execution_count": 19,
   "metadata": {},
   "outputs": [],
   "source": [
    "varGlobal = 10\n",
    "def multiplica(num1, num2):\n",
    "    varLocal = num1 * num2\n",
    "    print(\"Variável da função Multiplica:\", varLocal)\n",
    "    print(varLocal)"
   ]
  },
  {
   "cell_type": "code",
   "execution_count": 20,
   "metadata": {},
   "outputs": [
    {
     "name": "stdout",
     "output_type": "stream",
     "text": [
      "Variável da função Multiplica: 6\n",
      "6\n"
     ]
    }
   ],
   "source": [
    "multiplica(2, 3)"
   ]
  },
  {
   "cell_type": "code",
   "execution_count": 21,
   "metadata": {},
   "outputs": [
    {
     "name": "stdout",
     "output_type": "stream",
     "text": [
      "Variável da função Multiplica: 20\n",
      "11\n"
     ]
    }
   ],
   "source": [
    "# Apesar da variável global possuir o mesmo nome da variável local inserida no método \"multiplicacao\", são duas variáveis diferentes que apontam para valores diferentes. \n",
    "# A variável global não é alterada pelo método.\n",
    "varGlobal = 11\n",
    "def multiplicacao(num1, num2):\n",
    "    varGlobal = num1 * num2\n",
    "    print(\"Variável da função Multiplica:\", varGlobal)\n",
    "\n",
    "multiplicacao(5, 4)\n",
    "print(varGlobal)"
   ]
  },
  {
   "cell_type": "code",
   "execution_count": 22,
   "metadata": {},
   "outputs": [],
   "source": [
    "def variosParametros(*parametros):\n",
    "    for n, item in enumerate(parametros):\n",
    "        print(\"Parâmetro\", n, item)\n",
    "    return"
   ]
  },
  {
   "cell_type": "code",
   "execution_count": 24,
   "metadata": {},
   "outputs": [
    {
     "name": "stdout",
     "output_type": "stream",
     "text": [
      "Parâmetro 0 Luquinhas\n",
      "Parâmetro 1 Paulo\n",
      "Parâmetro 2 Kellvyn\n",
      "Parâmetro 3 Matheus\n",
      "Parâmetro 4 Daniel\n",
      "Parâmetro 5 Sabrina\n",
      "Parâmetro 6 Claybson\n"
     ]
    }
   ],
   "source": [
    "variosParametros(\"Luquinhas\", \"Paulo\", \"Kellvyn\", \"Matheus\", \"Daniel\", \"Sabrina\", \"Claybson\")"
   ]
  },
  {
   "cell_type": "code",
   "execution_count": 26,
   "metadata": {},
   "outputs": [],
   "source": [
    "def soma(n1, n2):\n",
    "    return n1 + n2\n",
    "\n",
    "def subtrai(n1, n2):\n",
    "    return n1 - n2\n",
    "\n",
    "def multiplica(n1, n2):\n",
    "    return n1 * n2\n",
    "\n",
    "def divide(n1, n2):\n",
    "    return n1 / n2"
   ]
  },
  {
   "cell_type": "code",
   "execution_count": 36,
   "metadata": {},
   "outputs": [
    {
     "name": "stdout",
     "output_type": "stream",
     "text": [
      "+===============================+\n",
      "| ESCOLHA UMA DAS OPÇÕES ABAIXO |\n",
      "|          1 - Somar            |\n",
      "|          2 - Subtrair         |\n",
      "|          3 - Multiplicar      |\n",
      "|          4 - Dividir          |\n",
      "|          0 - Sair             |\n",
      "+===============================+\n",
      "O resultado da soma é: 30\n",
      "+===============================+\n",
      "| ESCOLHA UMA DAS OPÇÕES ABAIXO |\n",
      "|          1 - Somar            |\n",
      "|          2 - Subtrair         |\n",
      "|          3 - Multiplicar      |\n",
      "|          4 - Dividir          |\n",
      "|          0 - Sair             |\n",
      "+===============================+\n"
     ]
    }
   ],
   "source": [
    "while True:\n",
    "    print(\"+===============================+\")\n",
    "    print(\"| ESCOLHA UMA DAS OPÇÕES ABAIXO |\")\n",
    "    print(\"|          1 - Somar            |\")\n",
    "    print(\"|          2 - Subtrair         |\")\n",
    "    print(\"|          3 - Multiplicar      |\")\n",
    "    print(\"|          4 - Dividir          |\")\n",
    "    print(\"|          0 - Sair             |\")\n",
    "    print(\"+===============================+\")\n",
    "\n",
    "    op = int(input())\n",
    "    if op == 0:\n",
    "        break\n",
    "\n",
    "    n1 = int(input(\"Primeiro número: \"))\n",
    "    n2 = int(input(\"Segundo número: \"))\n",
    "\n",
    "    if op == 1:\n",
    "        print(\"O resultado da soma é:\", soma(n1, n2))\n",
    "    elif op == 2:\n",
    "        print(\"O resultado da subtração é:\", subtrai(n1, n2))\n",
    "    elif op == 3:\n",
    "        print(\"O resultado da multiplicação é:\", multiplica(n1, n2))\n",
    "    elif op == 4:\n",
    "        print(\"O resultado da divisão é:\", divisao(n1, n2))\n",
    "    else:\n",
    "        print(\"Opção inválida. Tente novamente!\")"
   ]
  },
  {
   "cell_type": "code",
   "execution_count": 31,
   "metadata": {},
   "outputs": [
    {
     "name": "stdout",
     "output_type": "stream",
     "text": [
      "30\n"
     ]
    }
   ],
   "source": [
    "resposta = input(\"Escolha uma das opções: 1 - Soma, 2 - Subtração, 3 - Multiplica, 4 - Divide\")\n",
    "\n",
    "if (resposta == \"1\"):\n",
    "    varN1 = input(\"Digite o primeiro valor:\")\n",
    "    varN2 = input(\"Digite o segundo valor:\")\n",
    "    varSoma = soma(int(varN1), int(varN2))\n",
    "    print(varSoma)\n",
    "\n"
   ]
  },
  {
   "cell_type": "code",
   "execution_count": 42,
   "metadata": {},
   "outputs": [
    {
     "name": "stdout",
     "output_type": "stream",
     "text": [
      "+===============================+\n",
      "| ESCOLHA UMA DAS OPÇÕES ABAIXO |\n",
      "|          1 - Somar            |\n",
      "|          2 - Subtrair         |\n",
      "|          3 - Multiplicar      |\n",
      "|          4 - Dividir          |\n",
      "|          0 - Sair             |\n",
      "+===============================+\n",
      "O resultado da soma é: 35\n",
      "+===============================+\n",
      "| ESCOLHA UMA DAS OPÇÕES ABAIXO |\n",
      "|          1 - Somar            |\n",
      "|          2 - Subtrair         |\n",
      "|          3 - Multiplicar      |\n",
      "|          4 - Dividir          |\n",
      "|          0 - Sair             |\n",
      "+===============================+\n",
      "Opção inválida. Tente novamente!\n",
      "+===============================+\n",
      "| ESCOLHA UMA DAS OPÇÕES ABAIXO |\n",
      "|          1 - Somar            |\n",
      "|          2 - Subtrair         |\n",
      "|          3 - Multiplicar      |\n",
      "|          4 - Dividir          |\n",
      "|          0 - Sair             |\n",
      "+===============================+\n"
     ]
    }
   ],
   "source": [
    "while True:\n",
    "    print(\"+===============================+\")\n",
    "    print(\"| ESCOLHA UMA DAS OPÇÕES ABAIXO |\")\n",
    "    print(\"|          1 - Somar            |\")\n",
    "    print(\"|          2 - Subtrair         |\")\n",
    "    print(\"|          3 - Multiplicar      |\")\n",
    "    print(\"|          4 - Dividir          |\")\n",
    "    print(\"|          0 - Sair             |\")\n",
    "    print(\"+===============================+\")\n",
    "\n",
    "    op = int(input())\n",
    "    if op == 0:\n",
    "        break\n",
    "    if (op <= 4):\n",
    "        n1 = int(input(\"Primeiro número: \"))\n",
    "        n2 = int(input(\"Segundo número: \"))\n",
    "\n",
    "        if op == 1:\n",
    "          print(\"O resultado da soma é:\", soma(n1, n2))\n",
    "        elif op == 2:\n",
    "          print(\"O resultado da subtração é:\", subtrai(n1, n2))\n",
    "        elif op == 3:\n",
    "          print(\"O resultado da multiplicação é:\", multiplica(n1, n2))\n",
    "        elif op == 4:\n",
    "          print(\"O resultado da divisão é:\", divide(n1, n2))\n",
    "    else:    \n",
    "      print(\"Opção inválida. Tente novamente!\")\n",
    "    "
   ]
  }
 ],
 "metadata": {
  "kernelspec": {
   "display_name": "Python 3",
   "language": "python",
   "name": "python3"
  },
  "language_info": {
   "codemirror_mode": {
    "name": "ipython",
    "version": 3
   },
   "file_extension": ".py",
   "mimetype": "text/x-python",
   "name": "python",
   "nbconvert_exporter": "python",
   "pygments_lexer": "ipython3",
   "version": "3.11.4"
  }
 },
 "nbformat": 4,
 "nbformat_minor": 2
}
